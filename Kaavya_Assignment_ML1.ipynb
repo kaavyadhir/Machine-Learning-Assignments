{
 "cells": [
  {
   "cell_type": "code",
   "execution_count": 1,
   "id": "16403729",
   "metadata": {},
   "outputs": [
    {
     "name": "stdout",
     "output_type": "stream",
     "text": [
      "[5 4 6 3 2 1]\n"
     ]
    }
   ],
   "source": [
    "# Q1 (a)\n",
    "import numpy as np\n",
    "arr = np.array([1,2,3,6,4,5])\n",
    "reversed_array = arr[::-1]\n",
    "print(reversed_array)"
   ]
  },
  {
   "cell_type": "code",
   "execution_count": 2,
   "id": "dcf476b7",
   "metadata": {},
   "outputs": [
    {
     "name": "stdout",
     "output_type": "stream",
     "text": [
      "[1 2 3 2 4 5 1 2 3]\n"
     ]
    }
   ],
   "source": [
    "#(b) Method 1\n",
    "array1 = np.array([[1, 2, 3], [2, 4, 5], [1, 2, 3]])\n",
    "flat1 = array1.flatten()\n",
    "print(flat1)\n"
   ]
  },
  {
   "cell_type": "code",
   "execution_count": 3,
   "id": "3f67246c",
   "metadata": {},
   "outputs": [
    {
     "name": "stdout",
     "output_type": "stream",
     "text": [
      "[1 2 3 2 4 5 1 2 3]\n"
     ]
    }
   ],
   "source": [
    "# Method 2\n",
    "flat2 = array1.ravel()\n",
    "print(flat2)\n"
   ]
  },
  {
   "cell_type": "code",
   "execution_count": 4,
   "id": "c9536ebb",
   "metadata": {},
   "outputs": [
    {
     "name": "stdout",
     "output_type": "stream",
     "text": [
      "True\n",
      "[[ True  True]\n",
      " [ True  True]]\n"
     ]
    }
   ],
   "source": [
    "#(c)\n",
    "arr1 = np.array([[1,2],[3,4]])\n",
    "arr2 = np.array([[1,2],[3,4]])\n",
    "#Method 1\n",
    "print(np.array_equal(arr1,arr2))\n",
    "#Method 2\n",
    "print(arr1==arr2)"
   ]
  },
  {
   "cell_type": "code",
   "execution_count": 6,
   "id": "c6e26a36",
   "metadata": {},
   "outputs": [
    {
     "name": "stdout",
     "output_type": "stream",
     "text": [
      "Most freq in x :  1\n",
      "[0 5 7 8 9]\n"
     ]
    }
   ],
   "source": [
    "#(d)\n",
    "x = np.array([1,2,3,4,5,1,2,1,1,1])\n",
    "y = np.array([1,1,1,2,3,4,2,4,3,3])\n",
    "values,counts = np.unique(x,return_counts = True)\n",
    "most_freq = values[np.argmax(counts)]\n",
    "print(\"Most freq in x : \", most_freq)\n",
    "\n",
    "indices = np.where(x == most_freq)[0]\n",
    "print(indices)"
   ]
  },
  {
   "cell_type": "code",
   "execution_count": 7,
   "id": "2a457eeb",
   "metadata": {},
   "outputs": [
    {
     "name": "stdout",
     "output_type": "stream",
     "text": [
      "45\n"
     ]
    }
   ],
   "source": [
    "#(e)\n",
    "gfg = np.matrix('[4,1,9;12,3,1;4,5,6]')\n",
    "#(i)\n",
    "total_sum = gfg.sum()\n",
    "print(total_sum)"
   ]
  },
  {
   "cell_type": "code",
   "execution_count": 8,
   "id": "86c33152",
   "metadata": {},
   "outputs": [
    {
     "name": "stdout",
     "output_type": "stream",
     "text": [
      "[[14]\n",
      " [16]\n",
      " [15]]\n"
     ]
    }
   ],
   "source": [
    "#(ii)\n",
    "row_sum = gfg.sum(axis = 1)\n",
    "print(row_sum)"
   ]
  },
  {
   "cell_type": "code",
   "execution_count": 9,
   "id": "05a135ec",
   "metadata": {},
   "outputs": [
    {
     "name": "stdout",
     "output_type": "stream",
     "text": [
      "[[20  9 16]]\n"
     ]
    }
   ],
   "source": [
    "#(iii)\n",
    "col_sum = gfg.sum(axis=0)\n",
    "print(col_sum)"
   ]
  },
  {
   "cell_type": "code",
   "execution_count": 10,
   "id": "c30ac674",
   "metadata": {},
   "outputs": [
    {
     "name": "stdout",
     "output_type": "stream",
     "text": [
      "176\n"
     ]
    }
   ],
   "source": [
    "#(f)\n",
    "n_array = np.array([[55,25,15],[30,44,2],[11,45,77]])\n",
    "#(i)\n",
    "diagonal = np.trace(n_array)\n",
    "print(diagonal)"
   ]
  },
  {
   "cell_type": "code",
   "execution_count": 11,
   "id": "2fe3d06b",
   "metadata": {},
   "outputs": [
    {
     "name": "stdout",
     "output_type": "stream",
     "text": [
      "(array([98.16835147, 28.097044  , 49.73460452]), array([[ 0.4574917 ,  0.34637121, -0.15017693],\n",
      "       [ 0.28447814, -0.72784061, -0.4852124 ],\n",
      "       [ 0.84248058,  0.59184038,  0.8614034 ]]))\n"
     ]
    }
   ],
   "source": [
    "#(ii)\n",
    "eigen_values = np.linalg.eig(n_array)\n",
    "print(eigen_values)"
   ]
  },
  {
   "cell_type": "code",
   "execution_count": 12,
   "id": "ae88bd58",
   "metadata": {},
   "outputs": [
    {
     "name": "stdout",
     "output_type": "stream",
     "text": [
      "(array([98.16835147, 28.097044  , 49.73460452]), array([[ 0.4574917 ,  0.34637121, -0.15017693],\n",
      "       [ 0.28447814, -0.72784061, -0.4852124 ],\n",
      "       [ 0.84248058,  0.59184038,  0.8614034 ]]))\n"
     ]
    }
   ],
   "source": [
    "#(iii)\n",
    "eigenvec = np.linalg.eig(n_array)\n",
    "print(eigenvec)"
   ]
  },
  {
   "cell_type": "code",
   "execution_count": 13,
   "id": "5b70c82d",
   "metadata": {},
   "outputs": [
    {
     "name": "stdout",
     "output_type": "stream",
     "text": [
      "[[ 0.02404141 -0.00911212 -0.00444671]\n",
      " [-0.01667882  0.02966905  0.0024785 ]\n",
      " [ 0.00631287 -0.01603732  0.01217379]]\n"
     ]
    }
   ],
   "source": [
    "#(iv)\n",
    "inverse = np.linalg.inv(n_array)\n",
    "print(inverse)"
   ]
  },
  {
   "cell_type": "code",
   "execution_count": 14,
   "id": "1ba5779a",
   "metadata": {},
   "outputs": [
    {
     "name": "stdout",
     "output_type": "stream",
     "text": [
      "137180.0000000001\n"
     ]
    }
   ],
   "source": [
    "#(v)\n",
    "determinant = np.linalg.det(n_array)\n",
    "print(determinant)"
   ]
  },
  {
   "cell_type": "code",
   "execution_count": 15,
   "id": "206d2424",
   "metadata": {},
   "outputs": [
    {
     "name": "stdout",
     "output_type": "stream",
     "text": [
      "[[16 19]\n",
      " [26 31]]\n",
      "[[0.66666667 1.        ]\n",
      " [1.         1.66666667]]\n"
     ]
    }
   ],
   "source": [
    "#(g) (i)\n",
    "p = np.array([[1,2],[2,3]])\n",
    "q = np.array([[4,5],[6,7]])\n",
    "product = np.dot(p,q)\n",
    "print(product)\n",
    "\n",
    "cov_matrix = np.cov(p.flatten(),q.flatten())\n",
    "print(cov_matrix)"
   ]
  },
  {
   "cell_type": "code",
   "execution_count": 16,
   "id": "0add238c",
   "metadata": {},
   "outputs": [
    {
     "name": "stdout",
     "output_type": "stream",
     "text": [
      "[[16 19  5]\n",
      " [26 31  8]\n",
      " [46 55 14]]\n",
      "[[2.16666667 0.23333333]\n",
      " [0.23333333 5.36666667]]\n"
     ]
    }
   ],
   "source": [
    "#(ii)\n",
    "p = np.array([[1,2],[2,3],[4,5]])\n",
    "q = np.array([[4,5,1],[6,7,2]])\n",
    "pro2 = np.dot(p,q)\n",
    "print(pro2)\n",
    "\n",
    "cov_mat = np.cov(p.flatten(),q.flatten())\n",
    "print(cov_mat)"
   ]
  },
  {
   "cell_type": "code",
   "execution_count": 17,
   "id": "43df25a1",
   "metadata": {},
   "outputs": [
    {
     "name": "stdout",
     "output_type": "stream",
     "text": [
      "[[17 52]\n",
      " [13 62]]\n",
      "[[ 2 10  0 10 20  6]\n",
      " [ 3 15  0 15 30  9]\n",
      " [ 4 20  0 20 40 12]\n",
      " [ 3 15  0 15 30  9]\n",
      " [ 2 10  0 10 20  6]\n",
      " [ 9 45  0 45 90 27]]\n"
     ]
    }
   ],
   "source": [
    "#(h) (i)\n",
    "x = np.array([[2,3,4],[3,2,9]])\n",
    "y = np.array([[1,5,0],[5,10,3]])\n",
    "inner = np.inner(x,y)\n",
    "print(inner)\n",
    "\n",
    "#(ii)\n",
    "outer = np.outer(x,y)\n",
    "print(outer)"
   ]
  },
  {
   "cell_type": "code",
   "execution_count": 18,
   "id": "cf652edf",
   "metadata": {},
   "outputs": [
    {
     "name": "stdout",
     "output_type": "stream",
     "text": [
      "[[ 2  3  4  1  5  0]\n",
      " [ 2  3  4  5 10  3]\n",
      " [ 3  2  9  1  5  0]\n",
      " [ 3  2  9  5 10  3]]\n"
     ]
    }
   ],
   "source": [
    "#(iii)\n",
    "from itertools import product\n",
    "cartesian = np.array([np.concatenate([i,j]) for i,j in product(x,y)])\n",
    "print(cartesian)"
   ]
  },
  {
   "cell_type": "code",
   "execution_count": 19,
   "id": "74871799",
   "metadata": {},
   "outputs": [
    {
     "name": "stdout",
     "output_type": "stream",
     "text": [
      "[[1 2 3]\n",
      " [4 5 6]]\n"
     ]
    }
   ],
   "source": [
    "#Q2\n",
    "#(a)\n",
    "array = np.array([[1,-2,3],[-4,5,-6]])\n",
    "abs_array = np.abs(array)\n",
    "print(abs_array)"
   ]
  },
  {
   "cell_type": "code",
   "execution_count": 20,
   "id": "1e0181de",
   "metadata": {},
   "outputs": [
    {
     "name": "stdout",
     "output_type": "stream",
     "text": [
      "[-3.5, -0.5, 2.5]\n",
      "{'25th': array([-2.75, -0.25, -3.75]), '50th': array([-1.5,  1.5, -1.5]), '75th': array([-0.25,  3.25,  0.75])}\n",
      "{'25th': array([-0.5, -5. ]), '50th': array([ 1., -4.]), '75th': array([2. , 0.5])}\n"
     ]
    }
   ],
   "source": [
    "#(ii)\n",
    "percentile_flat = [np.percentile(array,p) for p in [25,50,75]]\n",
    "print(percentile_flat)\n",
    "\n",
    "#per column\n",
    "percentile_cols = {f\"{p}th\" : np.percentile(array,p,axis=0) for p in [25,50,75]}\n",
    "print(percentile_cols)\n",
    "\n",
    "#per row\n",
    "percentile_rows = {f\"{p}th\" : np.percentile(array,p,axis=1) for p in [25,50,75]}\n",
    "print(percentile_rows)"
   ]
  },
  {
   "cell_type": "code",
   "execution_count": 21,
   "id": "b45e8079",
   "metadata": {},
   "outputs": [
    {
     "name": "stdout",
     "output_type": "stream",
     "text": [
      "Flattened mean: -0.5, median: -0.5, std: 3.8622100754188224\n"
     ]
    }
   ],
   "source": [
    "#(iii)\n",
    "mean_flat = np.mean(array)\n",
    "median_flat = np.median(array)\n",
    "std_flat = np.std(array)\n",
    "print(f\"Flattened mean: {mean_flat}, median: {median_flat}, std: {std_flat}\")\n"
   ]
  },
  {
   "cell_type": "code",
   "execution_count": 22,
   "id": "a95a5d7e",
   "metadata": {},
   "outputs": [
    {
     "name": "stdout",
     "output_type": "stream",
     "text": [
      "Column-wise mean: [-1.5  1.5 -1.5]\n",
      "Column-wise median: [-1.5  1.5 -1.5]\n",
      "Column-wise std: [2.5 3.5 4.5]\n"
     ]
    }
   ],
   "source": [
    "# for column \n",
    "mean_col = np.mean(array, axis=0)\n",
    "median_col = np.median(array, axis=0)\n",
    "std_col = np.std(array, axis=0)\n",
    "print(f\"Column-wise mean: {mean_col}\")\n",
    "print(f\"Column-wise median: {median_col}\")\n",
    "print(f\"Column-wise std: {std_col}\")\n"
   ]
  },
  {
   "cell_type": "code",
   "execution_count": 23,
   "id": "d416d9b2",
   "metadata": {},
   "outputs": [
    {
     "name": "stdout",
     "output_type": "stream",
     "text": [
      "Row-wise mean: [ 0.66666667 -1.66666667]\n",
      "Row-wise median: [ 1. -4.]\n",
      "Row-wise std: [2.05480467 4.78423336]\n"
     ]
    }
   ],
   "source": [
    "# for row\n",
    "mean_row = np.mean(array, axis=1)\n",
    "median_row = np.median(array, axis=1)\n",
    "std_row = np.std(array, axis=1)\n",
    "print(f\"Row-wise mean: {mean_row}\")\n",
    "print(f\"Row-wise median: {median_row}\")\n",
    "print(f\"Row-wise std: {std_row}\")\n"
   ]
  },
  {
   "cell_type": "code",
   "execution_count": 25,
   "id": "f707fcdb",
   "metadata": {},
   "outputs": [
    {
     "name": "stdout",
     "output_type": "stream",
     "text": [
      "Floor values: [-2. -2. -1.  0.  1.  1.  3.]\n"
     ]
    }
   ],
   "source": [
    "#Q2 (b)\n",
    "a = np.array([-1.8, -1.6, -0.5, 0.5, 1.6, 1.8, 3.0])\n",
    " #(i)\n",
    "floor_values = np.floor(a)\n",
    "print(\"Floor values:\", floor_values)"
   ]
  },
  {
   "cell_type": "code",
   "execution_count": 26,
   "id": "b96deec2",
   "metadata": {},
   "outputs": [
    {
     "name": "stdout",
     "output_type": "stream",
     "text": [
      "[-1. -1. -0.  1.  2.  2.  3.]\n"
     ]
    }
   ],
   "source": [
    "#(ii)\n",
    "ceil_vals = np.ceil(a)\n",
    "print(ceil_vals)"
   ]
  },
  {
   "cell_type": "code",
   "execution_count": 27,
   "id": "61afe802",
   "metadata": {},
   "outputs": [
    {
     "name": "stdout",
     "output_type": "stream",
     "text": [
      "Truncated values: [-1. -1. -0.  0.  1.  1.  3.]\n"
     ]
    }
   ],
   "source": [
    "#(iii)\n",
    "trunc_values = np.trunc(a)\n",
    "print(\"Truncated values:\", trunc_values)\n"
   ]
  },
  {
   "cell_type": "code",
   "execution_count": 28,
   "id": "8412e94a",
   "metadata": {},
   "outputs": [
    {
     "name": "stdout",
     "output_type": "stream",
     "text": [
      "Rounded values: [-2. -2. -0.  0.  2.  2.  3.]\n"
     ]
    }
   ],
   "source": [
    "#(iv)\n",
    "round_values = np.round(a)\n",
    "print(\"Rounded values:\", round_values)\n"
   ]
  },
  {
   "cell_type": "code",
   "execution_count": 29,
   "id": "031e6fcb",
   "metadata": {},
   "outputs": [
    {
     "name": "stdout",
     "output_type": "stream",
     "text": [
      "Sorted array: [ 10  16  16  52  54  62 453]\n",
      "Indices of sorted array: [0 3 4 1 5 2 6]\n",
      "4 smallest elements: [16 10 16 52]\n",
      "5 largest elements: [ 16  52  62  54 453]\n"
     ]
    }
   ],
   "source": [
    "# Q3 (a)\n",
    "# (i) \n",
    "array = np.array([10, 52, 62, 16, 16, 54, 453])\n",
    "sorted_array = np.sort(array)\n",
    "print(\"Sorted array:\", sorted_array)\n",
    "\n",
    "#(ii)\n",
    "sorted_indices = np.argsort(array)\n",
    "print(\"Indices of sorted array:\", sorted_indices)\n",
    "\n",
    "#(iii)\n",
    "four_smallest = np.partition(array, 4)[:4]\n",
    "print(\"4 smallest elements:\", four_smallest)\n",
    "\n",
    "#(iv)\n",
    "five_largest = np.partition(array, -5)[-5:]\n",
    "print(\"5 largest elements:\", five_largest)\n"
   ]
  },
  {
   "cell_type": "code",
   "execution_count": 30,
   "id": "d2451dc0",
   "metadata": {},
   "outputs": [
    {
     "name": "stdout",
     "output_type": "stream",
     "text": [
      "Integer elements only: [1. 2. 3. 2.]\n",
      "Float elements only: [1.2 2.2]\n"
     ]
    }
   ],
   "source": [
    "#(b) (i)\n",
    "array = np.array([1.0, 1.2, 2.2, 2.0, 3.0, 2.0])\n",
    "\n",
    "integer_elements = array[array % 1 == 0]\n",
    "print(\"Integer elements only:\", integer_elements)\n",
    "\n",
    "#(ii)\n",
    "float_elements = array[array % 1 != 0]\n",
    "print(\"Float elements only:\", float_elements)\n",
    "\n"
   ]
  },
  {
   "cell_type": "code",
   "execution_count": 34,
   "id": "452f6d4d",
   "metadata": {},
   "outputs": [],
   "source": [
    "#Q4\n",
    "from PIL import Image\n",
    "import numpy as np\n",
    "\n",
    "def img_to_array(path):\n",
    "    # Load image using PIL\n",
    "    img = Image.open(path)\n",
    "    \n",
    "    # Convert image to numpy array\n",
    "    arr = np.array(img)\n",
    "    \n",
    "    # Check if image is grayscale or RGB\n",
    "    if len(arr.shape) == 2:\n",
    "        # Grayscale image\n",
    "        filename = \"grayscale_image.txt\"\n",
    "    elif len(arr.shape) == 3 and arr.shape[2] == 3:\n",
    "        # RGB image\n",
    "        filename = \"rgb_image.txt\"\n",
    "    else:\n",
    "        raise ValueError(\"Unsupported image format or channels\")\n",
    "    \n",
    "    # Save numpy array to text file\n",
    "    # Using np.savetxt for 2D array (grayscale)\n",
    "    # For RGB (3D), save each channel separately or reshape accordingly\n",
    "    if len(arr.shape) == 2:\n",
    "        np.savetxt(filename, arr, fmt='%d')\n",
    "    else:\n",
    "        # Reshape 3D array to 2D for saving\n",
    "        reshaped_arr = arr.reshape(-1, arr.shape[2])\n",
    "        np.savetxt(filename, reshaped_arr, fmt='%d')\n",
    "    \n",
    "    print(f\"Image saved as text file: {filename}\")\n",
    "\n",
    "#(b)\n",
    "def load_image_array(filename, shape=None):\n",
    "    data = np.loadtxt(filename, dtype=int)\n",
    "    if shape:\n",
    "        data = data.reshape(shape)\n",
    "    return data\n",
    "\n"
   ]
  },
  {
   "cell_type": "code",
   "execution_count": null,
   "id": "8e921d99",
   "metadata": {},
   "outputs": [],
   "source": []
  }
 ],
 "metadata": {
  "kernelspec": {
   "display_name": "Python 3 (ipykernel)",
   "language": "python",
   "name": "python3"
  },
  "language_info": {
   "codemirror_mode": {
    "name": "ipython",
    "version": 3
   },
   "file_extension": ".py",
   "mimetype": "text/x-python",
   "name": "python",
   "nbconvert_exporter": "python",
   "pygments_lexer": "ipython3",
   "version": "3.10.9"
  }
 },
 "nbformat": 4,
 "nbformat_minor": 5
}
