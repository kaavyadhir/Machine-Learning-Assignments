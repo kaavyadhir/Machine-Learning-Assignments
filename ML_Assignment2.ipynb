{
  "nbformat": 4,
  "nbformat_minor": 0,
  "metadata": {
    "colab": {
      "provenance": []
    },
    "kernelspec": {
      "name": "python3",
      "display_name": "Python 3"
    },
    "language_info": {
      "name": "python"
    }
  },
  "cells": [
    {
      "cell_type": "code",
      "execution_count": null,
      "metadata": {
        "colab": {
          "base_uri": "https://localhost:8080/"
        },
        "id": "v-62CthdMkAu",
        "outputId": "2a8b9dc5-ac13-4436-9cb6-f9b71da1a4ea"
      },
      "outputs": [
        {
          "output_type": "stream",
          "name": "stdout",
          "text": [
            "   Tid Refund Marital Status Taxable Income Cheat\n",
            "0    1    Yes         Single           125K    No\n",
            "1    2     No        Married           100K    No\n",
            "2    3     No         Single            70K    No\n",
            "3    4    Yes        Married           120K    No\n",
            "4    5     No       Divorced            95K   Yes\n",
            "5    6     No        Married            60K    No\n",
            "6    7    Yes       Divorced           220K    No\n",
            "7    8     No         Single            85K   Yes\n",
            "8    9     No        Married            75K    No\n",
            "9   10     No         Single            90K   Yes\n"
          ]
        }
      ],
      "source": [
        "# Q1\n",
        "import pandas as pd\n",
        "data = {\n",
        "    \"Tid\": [1,2,3,4,5,6,7,8,9,10],\n",
        "    \"Refund\": [\"Yes\",\"No\",\"No\",\"Yes\",\"No\",\"No\",\"Yes\",\"No\",\"No\",\"No\"],\n",
        "    \"Marital Status\": [\"Single\",\"Married\",\"Single\",\"Married\",\"Divorced\",\n",
        "                       \"Married\",\"Divorced\",\"Single\",\"Married\",\"Single\"],\n",
        "    \"Taxable Income\": [\"125K\",\"100K\",\"70K\",\"120K\",\"95K\",\n",
        "                       \"60K\",\"220K\",\"85K\",\"75K\",\"90K\"],\n",
        "    \"Cheat\": [\"No\",\"No\",\"No\",\"No\",\"Yes\",\n",
        "              \"No\",\"No\",\"Yes\",\"No\",\"Yes\"]\n",
        "}\n",
        "df = pd.DataFrame(data)\n",
        "print(df)"
      ]
    },
    {
      "cell_type": "code",
      "source": [
        "# Q2\n",
        "print(df.loc[[0,4,7,8]])"
      ],
      "metadata": {
        "colab": {
          "base_uri": "https://localhost:8080/"
        },
        "id": "R5vcOdZZNVMr",
        "outputId": "76706af7-5af4-47dd-c525-0c5bd59d48aa"
      },
      "execution_count": null,
      "outputs": [
        {
          "output_type": "stream",
          "name": "stdout",
          "text": [
            "   Tid Refund Marital Status Taxable Income Cheat\n",
            "0    1    Yes         Single           125K    No\n",
            "4    5     No       Divorced            95K   Yes\n",
            "7    8     No         Single            85K   Yes\n",
            "8    9     No        Married            75K    No\n"
          ]
        }
      ]
    },
    {
      "cell_type": "code",
      "source": [
        "# Q3 (i)\n",
        "print(df.loc[3:7])"
      ],
      "metadata": {
        "colab": {
          "base_uri": "https://localhost:8080/"
        },
        "id": "d38HJGfjNsG9",
        "outputId": "2105df67-975f-4a87-e778-f1f7ac47d55c"
      },
      "execution_count": null,
      "outputs": [
        {
          "output_type": "stream",
          "name": "stdout",
          "text": [
            "   Tid Refund Marital Status Taxable Income Cheat\n",
            "3    4    Yes        Married           120K    No\n",
            "4    5     No       Divorced            95K   Yes\n",
            "5    6     No        Married            60K    No\n",
            "6    7    Yes       Divorced           220K    No\n",
            "7    8     No         Single            85K   Yes\n"
          ]
        }
      ]
    },
    {
      "cell_type": "code",
      "source": [
        "# (ii)\n",
        "print(df.iloc[4:9,2:5])"
      ],
      "metadata": {
        "colab": {
          "base_uri": "https://localhost:8080/"
        },
        "id": "UeNqN4XdN7NY",
        "outputId": "6e5f2281-6d6e-4ea7-ffe2-e5c40031862d"
      },
      "execution_count": null,
      "outputs": [
        {
          "output_type": "stream",
          "name": "stdout",
          "text": [
            "  Marital Status Taxable Income Cheat\n",
            "4       Divorced            95K   Yes\n",
            "5        Married            60K    No\n",
            "6       Divorced           220K    No\n",
            "7         Single            85K   Yes\n",
            "8        Married            75K    No\n"
          ]
        }
      ]
    },
    {
      "cell_type": "code",
      "source": [
        "# (iii)\n",
        "print(df.iloc[:,1:4])"
      ],
      "metadata": {
        "colab": {
          "base_uri": "https://localhost:8080/"
        },
        "id": "BS_4y-UfOHYW",
        "outputId": "5a28e31e-e5ef-4898-c696-dec733ed2936"
      },
      "execution_count": null,
      "outputs": [
        {
          "output_type": "stream",
          "name": "stdout",
          "text": [
            "  Refund Marital Status Taxable Income\n",
            "0    Yes         Single           125K\n",
            "1     No        Married           100K\n",
            "2     No         Single            70K\n",
            "3    Yes        Married           120K\n",
            "4     No       Divorced            95K\n",
            "5     No        Married            60K\n",
            "6    Yes       Divorced           220K\n",
            "7     No         Single            85K\n",
            "8     No        Married            75K\n",
            "9     No         Single            90K\n"
          ]
        }
      ]
    },
    {
      "cell_type": "code",
      "source": [
        "# Q4\n",
        "data = pd.read_csv(\"/content/sample_data/Iris.csv\")\n",
        "df = data.head()\n",
        "print(df)"
      ],
      "metadata": {
        "colab": {
          "base_uri": "https://localhost:8080/"
        },
        "id": "nkgFcixLXBaS",
        "outputId": "b3df7db9-4ec3-4008-a582-3868e14f3bac"
      },
      "execution_count": null,
      "outputs": [
        {
          "output_type": "stream",
          "name": "stdout",
          "text": [
            "   Id  SepalLengthCm  SepalWidthCm  PetalLengthCm  PetalWidthCm      Species\n",
            "0   1            5.1           3.5            1.4           0.2  Iris-setosa\n",
            "1   2            4.9           3.0            1.4           0.2  Iris-setosa\n",
            "2   3            4.7           3.2            1.3           0.2  Iris-setosa\n",
            "3   4            4.6           3.1            1.5           0.2  Iris-setosa\n",
            "4   5            5.0           3.6            1.4           0.2  Iris-setosa\n"
          ]
        }
      ]
    },
    {
      "cell_type": "code",
      "source": [
        "# Q5\n",
        "# Delete row 4\n",
        "# Delete row 4\n",
        "df_new = df.drop(4, axis=0)\n",
        "\n",
        "# Delete column 3 (index = 2)\n",
        "df_new = df_new.drop(df_new.columns[2], axis=1)\n",
        "\n",
        "print(df_new.head(10))\n",
        "\n"
      ],
      "metadata": {
        "colab": {
          "base_uri": "https://localhost:8080/",
          "height": 356
        },
        "id": "CwD54_XeXU9H",
        "outputId": "21548b70-81f1-4ab6-a73b-7387a2f66acb"
      },
      "execution_count": null,
      "outputs": [
        {
          "output_type": "error",
          "ename": "KeyError",
          "evalue": "'[4] not found in axis'",
          "traceback": [
            "\u001b[0;31m---------------------------------------------------------------------------\u001b[0m",
            "\u001b[0;31mKeyError\u001b[0m                                  Traceback (most recent call last)",
            "\u001b[0;32m/tmp/ipython-input-3831610730.py\u001b[0m in \u001b[0;36m<cell line: 0>\u001b[0;34m()\u001b[0m\n\u001b[1;32m      2\u001b[0m \u001b[0;31m# Delete row 4\u001b[0m\u001b[0;34m\u001b[0m\u001b[0;34m\u001b[0m\u001b[0m\n\u001b[1;32m      3\u001b[0m \u001b[0;31m# Delete row 4\u001b[0m\u001b[0;34m\u001b[0m\u001b[0;34m\u001b[0m\u001b[0m\n\u001b[0;32m----> 4\u001b[0;31m \u001b[0mdf_new\u001b[0m \u001b[0;34m=\u001b[0m \u001b[0mdf\u001b[0m\u001b[0;34m.\u001b[0m\u001b[0mdrop\u001b[0m\u001b[0;34m(\u001b[0m\u001b[0;36m4\u001b[0m\u001b[0;34m,\u001b[0m \u001b[0maxis\u001b[0m\u001b[0;34m=\u001b[0m\u001b[0;36m0\u001b[0m\u001b[0;34m)\u001b[0m\u001b[0;34m\u001b[0m\u001b[0;34m\u001b[0m\u001b[0m\n\u001b[0m\u001b[1;32m      5\u001b[0m \u001b[0;34m\u001b[0m\u001b[0m\n\u001b[1;32m      6\u001b[0m \u001b[0;31m# Delete column 3 (index = 2)\u001b[0m\u001b[0;34m\u001b[0m\u001b[0;34m\u001b[0m\u001b[0m\n",
            "\u001b[0;32m/usr/local/lib/python3.11/dist-packages/pandas/core/frame.py\u001b[0m in \u001b[0;36mdrop\u001b[0;34m(self, labels, axis, index, columns, level, inplace, errors)\u001b[0m\n\u001b[1;32m   5579\u001b[0m                 \u001b[0mweight\u001b[0m  \u001b[0;36m1.0\u001b[0m     \u001b[0;36m0.8\u001b[0m\u001b[0;34m\u001b[0m\u001b[0;34m\u001b[0m\u001b[0m\n\u001b[1;32m   5580\u001b[0m         \"\"\"\n\u001b[0;32m-> 5581\u001b[0;31m         return super().drop(\n\u001b[0m\u001b[1;32m   5582\u001b[0m             \u001b[0mlabels\u001b[0m\u001b[0;34m=\u001b[0m\u001b[0mlabels\u001b[0m\u001b[0;34m,\u001b[0m\u001b[0;34m\u001b[0m\u001b[0;34m\u001b[0m\u001b[0m\n\u001b[1;32m   5583\u001b[0m             \u001b[0maxis\u001b[0m\u001b[0;34m=\u001b[0m\u001b[0maxis\u001b[0m\u001b[0;34m,\u001b[0m\u001b[0;34m\u001b[0m\u001b[0;34m\u001b[0m\u001b[0m\n",
            "\u001b[0;32m/usr/local/lib/python3.11/dist-packages/pandas/core/generic.py\u001b[0m in \u001b[0;36mdrop\u001b[0;34m(self, labels, axis, index, columns, level, inplace, errors)\u001b[0m\n\u001b[1;32m   4786\u001b[0m         \u001b[0;32mfor\u001b[0m \u001b[0maxis\u001b[0m\u001b[0;34m,\u001b[0m \u001b[0mlabels\u001b[0m \u001b[0;32min\u001b[0m \u001b[0maxes\u001b[0m\u001b[0;34m.\u001b[0m\u001b[0mitems\u001b[0m\u001b[0;34m(\u001b[0m\u001b[0;34m)\u001b[0m\u001b[0;34m:\u001b[0m\u001b[0;34m\u001b[0m\u001b[0;34m\u001b[0m\u001b[0m\n\u001b[1;32m   4787\u001b[0m             \u001b[0;32mif\u001b[0m \u001b[0mlabels\u001b[0m \u001b[0;32mis\u001b[0m \u001b[0;32mnot\u001b[0m \u001b[0;32mNone\u001b[0m\u001b[0;34m:\u001b[0m\u001b[0;34m\u001b[0m\u001b[0;34m\u001b[0m\u001b[0m\n\u001b[0;32m-> 4788\u001b[0;31m                 \u001b[0mobj\u001b[0m \u001b[0;34m=\u001b[0m \u001b[0mobj\u001b[0m\u001b[0;34m.\u001b[0m\u001b[0m_drop_axis\u001b[0m\u001b[0;34m(\u001b[0m\u001b[0mlabels\u001b[0m\u001b[0;34m,\u001b[0m \u001b[0maxis\u001b[0m\u001b[0;34m,\u001b[0m \u001b[0mlevel\u001b[0m\u001b[0;34m=\u001b[0m\u001b[0mlevel\u001b[0m\u001b[0;34m,\u001b[0m \u001b[0merrors\u001b[0m\u001b[0;34m=\u001b[0m\u001b[0merrors\u001b[0m\u001b[0;34m)\u001b[0m\u001b[0;34m\u001b[0m\u001b[0;34m\u001b[0m\u001b[0m\n\u001b[0m\u001b[1;32m   4789\u001b[0m \u001b[0;34m\u001b[0m\u001b[0m\n\u001b[1;32m   4790\u001b[0m         \u001b[0;32mif\u001b[0m \u001b[0minplace\u001b[0m\u001b[0;34m:\u001b[0m\u001b[0;34m\u001b[0m\u001b[0;34m\u001b[0m\u001b[0m\n",
            "\u001b[0;32m/usr/local/lib/python3.11/dist-packages/pandas/core/generic.py\u001b[0m in \u001b[0;36m_drop_axis\u001b[0;34m(self, labels, axis, level, errors, only_slice)\u001b[0m\n\u001b[1;32m   4828\u001b[0m                 \u001b[0mnew_axis\u001b[0m \u001b[0;34m=\u001b[0m \u001b[0maxis\u001b[0m\u001b[0;34m.\u001b[0m\u001b[0mdrop\u001b[0m\u001b[0;34m(\u001b[0m\u001b[0mlabels\u001b[0m\u001b[0;34m,\u001b[0m \u001b[0mlevel\u001b[0m\u001b[0;34m=\u001b[0m\u001b[0mlevel\u001b[0m\u001b[0;34m,\u001b[0m \u001b[0merrors\u001b[0m\u001b[0;34m=\u001b[0m\u001b[0merrors\u001b[0m\u001b[0;34m)\u001b[0m\u001b[0;34m\u001b[0m\u001b[0;34m\u001b[0m\u001b[0m\n\u001b[1;32m   4829\u001b[0m             \u001b[0;32melse\u001b[0m\u001b[0;34m:\u001b[0m\u001b[0;34m\u001b[0m\u001b[0;34m\u001b[0m\u001b[0m\n\u001b[0;32m-> 4830\u001b[0;31m                 \u001b[0mnew_axis\u001b[0m \u001b[0;34m=\u001b[0m \u001b[0maxis\u001b[0m\u001b[0;34m.\u001b[0m\u001b[0mdrop\u001b[0m\u001b[0;34m(\u001b[0m\u001b[0mlabels\u001b[0m\u001b[0;34m,\u001b[0m \u001b[0merrors\u001b[0m\u001b[0;34m=\u001b[0m\u001b[0merrors\u001b[0m\u001b[0;34m)\u001b[0m\u001b[0;34m\u001b[0m\u001b[0;34m\u001b[0m\u001b[0m\n\u001b[0m\u001b[1;32m   4831\u001b[0m             \u001b[0mindexer\u001b[0m \u001b[0;34m=\u001b[0m \u001b[0maxis\u001b[0m\u001b[0;34m.\u001b[0m\u001b[0mget_indexer\u001b[0m\u001b[0;34m(\u001b[0m\u001b[0mnew_axis\u001b[0m\u001b[0;34m)\u001b[0m\u001b[0;34m\u001b[0m\u001b[0;34m\u001b[0m\u001b[0m\n\u001b[1;32m   4832\u001b[0m \u001b[0;34m\u001b[0m\u001b[0m\n",
            "\u001b[0;32m/usr/local/lib/python3.11/dist-packages/pandas/core/indexes/base.py\u001b[0m in \u001b[0;36mdrop\u001b[0;34m(self, labels, errors)\u001b[0m\n\u001b[1;32m   7068\u001b[0m         \u001b[0;32mif\u001b[0m \u001b[0mmask\u001b[0m\u001b[0;34m.\u001b[0m\u001b[0many\u001b[0m\u001b[0;34m(\u001b[0m\u001b[0;34m)\u001b[0m\u001b[0;34m:\u001b[0m\u001b[0;34m\u001b[0m\u001b[0;34m\u001b[0m\u001b[0m\n\u001b[1;32m   7069\u001b[0m             \u001b[0;32mif\u001b[0m \u001b[0merrors\u001b[0m \u001b[0;34m!=\u001b[0m \u001b[0;34m\"ignore\"\u001b[0m\u001b[0;34m:\u001b[0m\u001b[0;34m\u001b[0m\u001b[0;34m\u001b[0m\u001b[0m\n\u001b[0;32m-> 7070\u001b[0;31m                 \u001b[0;32mraise\u001b[0m \u001b[0mKeyError\u001b[0m\u001b[0;34m(\u001b[0m\u001b[0;34mf\"{labels[mask].tolist()} not found in axis\"\u001b[0m\u001b[0;34m)\u001b[0m\u001b[0;34m\u001b[0m\u001b[0;34m\u001b[0m\u001b[0m\n\u001b[0m\u001b[1;32m   7071\u001b[0m             \u001b[0mindexer\u001b[0m \u001b[0;34m=\u001b[0m \u001b[0mindexer\u001b[0m\u001b[0;34m[\u001b[0m\u001b[0;34m~\u001b[0m\u001b[0mmask\u001b[0m\u001b[0;34m]\u001b[0m\u001b[0;34m\u001b[0m\u001b[0;34m\u001b[0m\u001b[0m\n\u001b[1;32m   7072\u001b[0m         \u001b[0;32mreturn\u001b[0m \u001b[0mself\u001b[0m\u001b[0;34m.\u001b[0m\u001b[0mdelete\u001b[0m\u001b[0;34m(\u001b[0m\u001b[0mindexer\u001b[0m\u001b[0;34m)\u001b[0m\u001b[0;34m\u001b[0m\u001b[0;34m\u001b[0m\u001b[0m\n",
            "\u001b[0;31mKeyError\u001b[0m: '[4] not found in axis'"
          ]
        }
      ]
    },
    {
      "cell_type": "code",
      "source": [
        "# Q6\n",
        "import pandas as pd\n",
        "\n",
        "# Create dataset (as dictionary)\n",
        "data = {\n",
        "    'Employee_ID': [101, 102, 103, 104, 105],\n",
        "    'Name': ['Alice', 'Bob', 'Charlie', 'Diana', 'Edward'],\n",
        "    'Department': ['HR', 'IT', 'IT', 'Marketing', 'Sales'],\n",
        "    'Age': [29, 34, 41, 28, 38],\n",
        "    'Salary': [50000, 70000, 65000, 55000, 60000],\n",
        "    'Years_of_Experience': [4, 8, 10, 3, 12],\n",
        "    'Joining_Date': pd.to_datetime(['2020-03-15', '2017-07-19', '2013-06-01', '2021-02-10', '2010-11-25']),\n",
        "    'Gender': ['Female', 'Male', 'Male', 'Female', 'Male'],\n",
        "    'Bonus': [5000, 7000, 6000, 4500, 5000],\n",
        "    'Rating': [4.5, 4.0, 3.8, 4.7, 3.5]\n",
        "}\n",
        "\n",
        "# Create DataFrame\n",
        "df = pd.DataFrame(data)\n",
        "\n",
        "# (a) Shape of DataFrame\n",
        "print(\"Shape (rows, columns):\", df.shape)\n",
        "\n",
        "# (b) Summary of DataFrame (info)\n",
        "print(\"\\nSummary of DataFrame:\")\n",
        "print(df.info())\n",
        "\n",
        "# (c) Descriptive statistics\n",
        "print(\"\\nDescriptive Statistics:\")\n",
        "print(df.describe())\n",
        "\n",
        "# (d) Display first 5 rows and last 3 rows\n",
        "print(\"\\nFirst 5 rows:\")\n",
        "print(df.head())\n",
        "print(\"\\nLast 3 rows:\")\n",
        "print(df.tail(3))\n",
        "\n",
        "# (e) Calculate statistics\n",
        "print(\"\\nStatistics:\")\n",
        "print(\"Average Salary:\", df['Salary'].mean())\n",
        "print(\"Total Bonus:\", df['Bonus'].sum())\n",
        "print(\"Youngest Age:\", df['Age'].min())\n",
        "print(\"Highest Rating:\", df['Rating'].max())\n",
        "\n",
        "# (f) Sort by Salary (descending)\n",
        "print(\"\\nDataFrame sorted by Salary (descending):\")\n",
        "print(df.sort_values(by='Salary', ascending=False))\n",
        "\n",
        "# (g) Add new column 'Performance_Category'\n",
        "def categorize_rating(r):\n",
        "    if r >= 4.5:\n",
        "        return \"Excellent\"\n",
        "    elif r >= 4.0:\n",
        "        return \"Good\"\n",
        "    else:\n",
        "        return \"Average\"\n",
        "\n",
        "df['Performance_Category'] = df['Rating'].apply(categorize_rating)\n",
        "print(\"\\nDataFrame with Performance_Category:\")\n",
        "print(df)\n"
      ],
      "metadata": {
        "colab": {
          "base_uri": "https://localhost:8080/"
        },
        "id": "D1n6vIi-LKML",
        "outputId": "41addb02-1974-4fa9-c5ed-ce2b1994bb4f"
      },
      "execution_count": 1,
      "outputs": [
        {
          "output_type": "stream",
          "name": "stdout",
          "text": [
            "Shape (rows, columns): (5, 10)\n",
            "\n",
            "Summary of DataFrame:\n",
            "<class 'pandas.core.frame.DataFrame'>\n",
            "RangeIndex: 5 entries, 0 to 4\n",
            "Data columns (total 10 columns):\n",
            " #   Column               Non-Null Count  Dtype         \n",
            "---  ------               --------------  -----         \n",
            " 0   Employee_ID          5 non-null      int64         \n",
            " 1   Name                 5 non-null      object        \n",
            " 2   Department           5 non-null      object        \n",
            " 3   Age                  5 non-null      int64         \n",
            " 4   Salary               5 non-null      int64         \n",
            " 5   Years_of_Experience  5 non-null      int64         \n",
            " 6   Joining_Date         5 non-null      datetime64[ns]\n",
            " 7   Gender               5 non-null      object        \n",
            " 8   Bonus                5 non-null      int64         \n",
            " 9   Rating               5 non-null      float64       \n",
            "dtypes: datetime64[ns](1), float64(1), int64(5), object(3)\n",
            "memory usage: 532.0+ bytes\n",
            "None\n",
            "\n",
            "Descriptive Statistics:\n",
            "       Employee_ID        Age       Salary  Years_of_Experience  \\\n",
            "count     5.000000   5.000000      5.00000             5.000000   \n",
            "mean    103.000000  34.000000  60000.00000             7.400000   \n",
            "min     101.000000  28.000000  50000.00000             3.000000   \n",
            "25%     102.000000  29.000000  55000.00000             4.000000   \n",
            "50%     103.000000  34.000000  60000.00000             8.000000   \n",
            "75%     104.000000  38.000000  65000.00000            10.000000   \n",
            "max     105.000000  41.000000  70000.00000            12.000000   \n",
            "std       1.581139   5.612486   7905.69415             3.847077   \n",
            "\n",
            "              Joining_Date   Bonus    Rating  \n",
            "count                    5     5.0  5.000000  \n",
            "mean   2016-08-20 00:00:00  5500.0  4.100000  \n",
            "min    2010-11-25 00:00:00  4500.0  3.500000  \n",
            "25%    2013-06-01 00:00:00  5000.0  3.800000  \n",
            "50%    2017-07-19 00:00:00  5000.0  4.000000  \n",
            "75%    2020-03-15 00:00:00  6000.0  4.500000  \n",
            "max    2021-02-10 00:00:00  7000.0  4.700000  \n",
            "std                    NaN  1000.0  0.494975  \n",
            "\n",
            "First 5 rows:\n",
            "   Employee_ID     Name Department  Age  Salary  Years_of_Experience  \\\n",
            "0          101    Alice         HR   29   50000                    4   \n",
            "1          102      Bob         IT   34   70000                    8   \n",
            "2          103  Charlie         IT   41   65000                   10   \n",
            "3          104    Diana  Marketing   28   55000                    3   \n",
            "4          105   Edward      Sales   38   60000                   12   \n",
            "\n",
            "  Joining_Date  Gender  Bonus  Rating  \n",
            "0   2020-03-15  Female   5000     4.5  \n",
            "1   2017-07-19    Male   7000     4.0  \n",
            "2   2013-06-01    Male   6000     3.8  \n",
            "3   2021-02-10  Female   4500     4.7  \n",
            "4   2010-11-25    Male   5000     3.5  \n",
            "\n",
            "Last 3 rows:\n",
            "   Employee_ID     Name Department  Age  Salary  Years_of_Experience  \\\n",
            "2          103  Charlie         IT   41   65000                   10   \n",
            "3          104    Diana  Marketing   28   55000                    3   \n",
            "4          105   Edward      Sales   38   60000                   12   \n",
            "\n",
            "  Joining_Date  Gender  Bonus  Rating  \n",
            "2   2013-06-01    Male   6000     3.8  \n",
            "3   2021-02-10  Female   4500     4.7  \n",
            "4   2010-11-25    Male   5000     3.5  \n",
            "\n",
            "Statistics:\n",
            "Average Salary: 60000.0\n",
            "Total Bonus: 27500\n",
            "Youngest Age: 28\n",
            "Highest Rating: 4.7\n",
            "\n",
            "DataFrame sorted by Salary (descending):\n",
            "   Employee_ID     Name Department  Age  Salary  Years_of_Experience  \\\n",
            "1          102      Bob         IT   34   70000                    8   \n",
            "2          103  Charlie         IT   41   65000                   10   \n",
            "4          105   Edward      Sales   38   60000                   12   \n",
            "3          104    Diana  Marketing   28   55000                    3   \n",
            "0          101    Alice         HR   29   50000                    4   \n",
            "\n",
            "  Joining_Date  Gender  Bonus  Rating  \n",
            "1   2017-07-19    Male   7000     4.0  \n",
            "2   2013-06-01    Male   6000     3.8  \n",
            "4   2010-11-25    Male   5000     3.5  \n",
            "3   2021-02-10  Female   4500     4.7  \n",
            "0   2020-03-15  Female   5000     4.5  \n",
            "\n",
            "DataFrame with Performance_Category:\n",
            "   Employee_ID     Name Department  Age  Salary  Years_of_Experience  \\\n",
            "0          101    Alice         HR   29   50000                    4   \n",
            "1          102      Bob         IT   34   70000                    8   \n",
            "2          103  Charlie         IT   41   65000                   10   \n",
            "3          104    Diana  Marketing   28   55000                    3   \n",
            "4          105   Edward      Sales   38   60000                   12   \n",
            "\n",
            "  Joining_Date  Gender  Bonus  Rating Performance_Category  \n",
            "0   2020-03-15  Female   5000     4.5            Excellent  \n",
            "1   2017-07-19    Male   7000     4.0                 Good  \n",
            "2   2013-06-01    Male   6000     3.8              Average  \n",
            "3   2021-02-10  Female   4500     4.7            Excellent  \n",
            "4   2010-11-25    Male   5000     3.5              Average  \n"
          ]
        }
      ]
    },
    {
      "cell_type": "code",
      "source": [
        "# (h) Identify missing values\n",
        "print(\"\\nMissing values in DataFrame:\")\n",
        "print(df.isnull().sum())\n",
        "\n",
        "# (i) Rename Employee_ID column to ID\n",
        "df.rename(columns={'Employee_ID': 'ID'}, inplace=True)\n",
        "print(\"\\nDataFrame with renamed column:\")\n",
        "print(df.head())\n",
        "\n",
        "# (j) Find employees\n",
        "print(\"\\nEmployees with more than 5 years of experience:\")\n",
        "print(df[df['Years_of_Experience'] > 5])\n",
        "\n",
        "print(\"\\nEmployees belonging to IT department:\")\n",
        "print(df[df['Department'] == 'IT'])\n",
        "\n",
        "# (k) Add new column 'Tax' (10% of Salary)\n",
        "df['Tax'] = df['Salary'] * 0.10\n",
        "print(\"\\nDataFrame with Tax column:\")\n",
        "print(df[['Name', 'Salary', 'Tax']])\n",
        "\n",
        "# (l) Save modified DataFrame to CSV\n",
        "df.to_csv(\"employees_modified.csv\", index=False)\n",
        "print(\"\\nModified DataFrame saved as 'employees_modified.csv'\")"
      ],
      "metadata": {
        "colab": {
          "base_uri": "https://localhost:8080/"
        },
        "id": "mLYDRy-FLsGl",
        "outputId": "6a0a2fac-63c3-4d9c-84bf-9da395b3a065"
      },
      "execution_count": 2,
      "outputs": [
        {
          "output_type": "stream",
          "name": "stdout",
          "text": [
            "\n",
            "Missing values in DataFrame:\n",
            "Employee_ID             0\n",
            "Name                    0\n",
            "Department              0\n",
            "Age                     0\n",
            "Salary                  0\n",
            "Years_of_Experience     0\n",
            "Joining_Date            0\n",
            "Gender                  0\n",
            "Bonus                   0\n",
            "Rating                  0\n",
            "Performance_Category    0\n",
            "dtype: int64\n",
            "\n",
            "DataFrame with renamed column:\n",
            "    ID     Name Department  Age  Salary  Years_of_Experience Joining_Date  \\\n",
            "0  101    Alice         HR   29   50000                    4   2020-03-15   \n",
            "1  102      Bob         IT   34   70000                    8   2017-07-19   \n",
            "2  103  Charlie         IT   41   65000                   10   2013-06-01   \n",
            "3  104    Diana  Marketing   28   55000                    3   2021-02-10   \n",
            "4  105   Edward      Sales   38   60000                   12   2010-11-25   \n",
            "\n",
            "   Gender  Bonus  Rating Performance_Category  \n",
            "0  Female   5000     4.5            Excellent  \n",
            "1    Male   7000     4.0                 Good  \n",
            "2    Male   6000     3.8              Average  \n",
            "3  Female   4500     4.7            Excellent  \n",
            "4    Male   5000     3.5              Average  \n",
            "\n",
            "Employees with more than 5 years of experience:\n",
            "    ID     Name Department  Age  Salary  Years_of_Experience Joining_Date  \\\n",
            "1  102      Bob         IT   34   70000                    8   2017-07-19   \n",
            "2  103  Charlie         IT   41   65000                   10   2013-06-01   \n",
            "4  105   Edward      Sales   38   60000                   12   2010-11-25   \n",
            "\n",
            "  Gender  Bonus  Rating Performance_Category  \n",
            "1   Male   7000     4.0                 Good  \n",
            "2   Male   6000     3.8              Average  \n",
            "4   Male   5000     3.5              Average  \n",
            "\n",
            "Employees belonging to IT department:\n",
            "    ID     Name Department  Age  Salary  Years_of_Experience Joining_Date  \\\n",
            "1  102      Bob         IT   34   70000                    8   2017-07-19   \n",
            "2  103  Charlie         IT   41   65000                   10   2013-06-01   \n",
            "\n",
            "  Gender  Bonus  Rating Performance_Category  \n",
            "1   Male   7000     4.0                 Good  \n",
            "2   Male   6000     3.8              Average  \n",
            "\n",
            "DataFrame with Tax column:\n",
            "      Name  Salary     Tax\n",
            "0    Alice   50000  5000.0\n",
            "1      Bob   70000  7000.0\n",
            "2  Charlie   65000  6500.0\n",
            "3    Diana   55000  5500.0\n",
            "4   Edward   60000  6000.0\n",
            "\n",
            "Modified DataFrame saved as 'employees_modified.csv'\n"
          ]
        }
      ]
    }
  ]
}